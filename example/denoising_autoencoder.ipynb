{
  "cells": [
    {
      "cell_type": "markdown",
      "metadata": {
        "id": "3cj79zAEQcMb"
      },
      "source": [
        "# 오토인코더로 망가진 이미지 복원하기\n",
        "\n",
        "잡음제거 오토인코더(Denoising Autoencoder)는 2008년 몬트리올 대학에서 발표한 논문\n",
        "[\"Extracting and Composing Robust Features with Denoising AutoEncoder\"](http://www.cs.toronto.edu/~larocheh/publications/icml-2008-denoising-autoencoders.pdf)\n",
        "에서 처음 제안되었습니다.\n",
        "\n",
        "앞서 오토인코더는 일종의 \"압축\"을 한다고 했습니다.\n",
        "그리고 압축은 데이터의 특성에 중요도로 우선순위를 매기고\n",
        "낮은 우선순위의 데이터를 버린다는 뜻이기도 합니다.\n",
        "\n",
        "잡음제거 오토인코더의 아이디어는\n",
        "중요한 특징을 추출하는 오토인코더의 특성을 이용하여 비교적\n",
        "\"덜 중요한 데이터\"인 잡음을 버려 원래의 데이터를 복원한다는 것 입니다.\n",
        "원래 배웠던 오토인코더와 큰 차이점은 없으며,\n",
        "학습을 할때 입력에 잡음을 더하는 방식으로 복원 능력을 강화한 것이 핵심입니다.\n",
        "\n",
        "앞서 다룬 코드와 동일하며 `add_noise()` 함수로 학습시 이미지에 노이즈를 더해주는 부분만 추가됐습니다."
      ]
    },
    {
      "cell_type": "code",
      "execution_count": 1,
      "metadata": {
        "id": "6KaivYoXQcMd"
      },
      "outputs": [],
      "source": [
        "import torch\n",
        "import torchvision\n",
        "import torch.nn.functional as F\n",
        "from torch import nn, optim\n",
        "from torchvision import transforms, datasets\n",
        "\n",
        "import matplotlib.pyplot as plt\n",
        "import numpy as np"
      ]
    },
    {
      "cell_type": "code",
      "execution_count": 3,
      "metadata": {
        "colab": {
          "base_uri": "https://localhost:8080/"
        },
        "id": "IJoImUwUQcMe",
        "outputId": "6d117327-d03a-4025-a351-050ce11dae22"
      },
      "outputs": [
        {
          "name": "stdout",
          "output_type": "stream",
          "text": [
            "다음 기기로 학습합니다: cuda\n"
          ]
        }
      ],
      "source": [
        "# 하이퍼파라미터\n",
        "EPOCH = 1\n",
        "BATCH_SIZE = 64\n",
        "USE_CUDA = torch.cuda.is_available()\n",
        "DEVICE = torch.device(\"cuda\" if USE_CUDA else \"cpu\")\n",
        "print(\"다음 기기로 학습합니다:\", DEVICE)"
      ]
    },
    {
      "cell_type": "code",
      "execution_count": 4,
      "metadata": {
        "id": "0sJU9nCjQcMf"
      },
      "outputs": [],
      "source": [
        "# Fashion MNIST 학습 데이터셋\n",
        "trainset = datasets.FashionMNIST(\n",
        "    root      = './.data/', \n",
        "    train     = True,\n",
        "    download  = True,\n",
        "    transform = transforms.ToTensor()\n",
        ")\n",
        "\n",
        "train_loader = torch.utils.data.DataLoader(\n",
        "    dataset     = trainset,\n",
        "    batch_size  = BATCH_SIZE,\n",
        "    shuffle     = True,\n",
        "    num_workers = 2\n",
        ")"
      ]
    },
    {
      "cell_type": "code",
      "execution_count": 5,
      "metadata": {
        "id": "LLq1ZsfBQcMf"
      },
      "outputs": [],
      "source": [
        "class Autoencoder(nn.Module):\n",
        "    def __init__(self):\n",
        "        super(Autoencoder, self).__init__()\n",
        "\n",
        "        self.encoder = nn.Sequential(\n",
        "            nn.Linear(28*28, 128),\n",
        "            nn.ReLU(),\n",
        "            nn.Linear(128, 64),\n",
        "            nn.ReLU(),\n",
        "            nn.Linear(64, 12),\n",
        "            nn.ReLU(),\n",
        "            nn.Linear(12, 3),   # 입력의 특징을 3차원으로 압축합니다\n",
        "        )\n",
        "        self.decoder = nn.Sequential(\n",
        "            nn.Linear(3, 12),\n",
        "            nn.ReLU(),\n",
        "            nn.Linear(12, 64),\n",
        "            nn.ReLU(),\n",
        "            nn.Linear(64, 128),\n",
        "            nn.ReLU(),\n",
        "            nn.Linear(128, 28*28),\n",
        "            nn.Sigmoid(),       # 픽셀당 0과 1 사이로 값을 출력합니다\n",
        "        )\n",
        "\n",
        "    def forward(self, x):\n",
        "        encoded = self.encoder(x)\n",
        "        decoded = self.decoder(encoded)\n",
        "        return encoded, decoded"
      ]
    },
    {
      "cell_type": "code",
      "execution_count": 6,
      "metadata": {
        "id": "-XGCA-B0QcMg"
      },
      "outputs": [],
      "source": [
        "autoencoder = Autoencoder().to(DEVICE)\n",
        "optimizer = torch.optim.Adam(autoencoder.parameters(), lr=0.005)\n",
        "criterion = nn.MSELoss()"
      ]
    },
    {
      "cell_type": "code",
      "execution_count": 7,
      "metadata": {
        "id": "vnjDqrpFQcMg"
      },
      "outputs": [],
      "source": [
        "def add_noise(img):\n",
        "    noise = torch.randn(img.size()) * 0.2\n",
        "    noisy_img = img + noise\n",
        "    return noisy_img"
      ]
    },
    {
      "cell_type": "code",
      "execution_count": 8,
      "metadata": {
        "id": "K0DPkTReQcMg"
      },
      "outputs": [],
      "source": [
        "def train(autoencoder, train_loader):\n",
        "    autoencoder.train()\n",
        "    avg_loss = 0\n",
        "    for step, (x, label) in enumerate(train_loader):\n",
        "        print(x)\n",
        "        noisy_x = add_noise(x)  # 입력에 노이즈 더하기\n",
        "        noisy_x = noisy_x.view(-1, 28*28).to(DEVICE)\n",
        "        y = x.view(-1, 28*28).to(DEVICE)\n",
        "        print(label)\n",
        "        label = label.to(DEVICE)\n",
        "        encoded, decoded = autoencoder(noisy_x)\n",
        "\n",
        "        loss = criterion(decoded, y)\n",
        "        optimizer.zero_grad()\n",
        "        loss.backward()\n",
        "        optimizer.step()\n",
        "        \n",
        "        avg_loss += loss.item()\n",
        "    return avg_loss / len(train_loader)"
      ]
    },
    {
      "cell_type": "code",
      "execution_count": 10,
      "metadata": {
        "colab": {
          "base_uri": "https://localhost:8080/"
        },
        "id": "U-DRauRxQcMh",
        "outputId": "ab9649bb-7b22-4565-cb2f-cc0d94053d8e"
      },
      "outputs": [],
      "source": [
        "for epoch in range(1, EPOCH+1):\n",
        "    loss = train(autoencoder, train_loader)\n",
        "    print(\"[Epoch {}] loss:{}\".format(epoch, loss))\n",
        "    # 이번 예제에선 학습시 시각화를 건너 뜁니다"
      ]
    },
    {
      "cell_type": "markdown",
      "metadata": {
        "id": "ui0bMTJfQcMh"
      },
      "source": [
        "# 이미지 복원 시각화 하기"
      ]
    },
    {
      "cell_type": "code",
      "execution_count": 12,
      "metadata": {
        "id": "GkZZ7XSYQcMh"
      },
      "outputs": [
        {
          "name": "stdout",
          "output_type": "stream",
          "text": [
            "tensor([[  0,   0,   0,   0,   0,   0,   0,   0,   0,   0,   0,   0,   0,   0,\n",
            "           0,   0,   0,   0,   0,   0,   0,   0,   0,   0,   0,   0,   0,   0,\n",
            "           0,   0,   0,   0,   0,   0,   0,   0,   0,   0,   0,   0,   0,   0,\n",
            "           0,   0,   0,   0,   0,   0,   0,   0,   0,   0,   0,   0,   0,   0,\n",
            "           0,   0,   0,   0,   0,   0,   0,   0,   0,   0,   0,   0,   0,   0,\n",
            "           0,   0,   0,   0,   0,   0,   0,   0,   0,   0,   0,   0,   0,   0,\n",
            "           0,   0,   0,   0,   0,   0,   0,   0,   0,   0,   0,   0,   0,   0,\n",
            "           0,   0,   0,   0,   0,   0,   0,   0,   0,   0,   0,   0,   0,   0,\n",
            "           0,   0,   0,   0,   0,   0,   0,   0,   0,   0,   0,   0,   0,   0,\n",
            "           0,   0,   0,   0,   0,   0,   0,   0,   0,   0,   0,   0,   0,   0,\n",
            "           0,   0,   0,   0,   0,   0,   0,   0,   0,   0,   0,   0,   0,   0,\n",
            "           0,   0,   0,   0,   0,   0,   0,   0,   0,   0,   0,   0,   0,   0,\n",
            "           0,   0,   0,   0,   0,   0,   0,   0,   0,   0,   0,   0,   0,   0,\n",
            "           0,   0,   0,   0,   0,   0,   0,   0,   0,   0,   0,   0,   0,   0,\n",
            "           0,   0,   0,   0,   0,   0,   0,   0,   0,   0,   0,   0,   0,   0,\n",
            "           0,   0,   0,   0,   0,   3,   1,   0,   0,   7,   0,  37,   0,   0,\n",
            "           0,   0,   0,   0,   0,   0,   0,   0,   0,   0,   0,   0,   0,   1,\n",
            "           2,   0,  27,  84,  11,   0,   0,   0,   0,   0,   0, 119,   0,   0,\n",
            "           0,   0,   0,   0,   0,   0,   0,   0,   0,   0,   0,   0,   0,   1,\n",
            "           0,   0,  88, 143, 110,   0,   0,   0,   0,  22,  93, 106,   0,   0,\n",
            "           0,   0,   0,   0,   0,   0,   0,   0,   0,   0,   0,   0,   0,   4,\n",
            "           0,  53, 129, 120, 147, 175, 157, 166, 135, 154, 168, 140,   0,   0,\n",
            "           0,   0,   0,   0,   0,   0,   0,   0,   0,   0,   0,   0,   2,   0,\n",
            "          11, 137, 130, 128, 160, 176, 159, 167, 178, 149, 151, 144,   0,   0,\n",
            "           0,   0,   0,   0,   0,   0,   1,   0,   2,   1,   0,   3,   0,   0,\n",
            "         115, 114, 106, 137, 168, 153, 156, 165, 167, 143, 157, 158,  11,   0,\n",
            "           0,   0,   0,   0,   1,   0,   0,   0,   0,   0,   3,   0,   0,  89,\n",
            "         139,  90,  94, 153, 149, 131, 151, 169, 172, 143, 159, 169,  48,   0,\n",
            "           0,   0,   0,   0,   0,   0,   2,   4,   1,   0,   0,   0,  98, 136,\n",
            "         110, 109, 110, 162, 135, 144, 149, 159, 167, 144, 158, 169, 119,   0,\n",
            "           0,   0,   2,   2,   1,   2,   0,   0,   0,   0,  26, 108, 117,  99,\n",
            "         111, 117, 136, 156, 134, 154, 154, 156, 160, 141, 147, 156, 178,   0,\n",
            "           3,   0,   0,   0,   0,   0,   0,  21,  53,  92, 117, 111, 103, 115,\n",
            "         129, 134, 143, 154, 165, 170, 154, 151, 154, 143, 138, 150, 165,  43,\n",
            "           0,   0,  23,  54,  65,  76,  85, 118, 128, 123, 111, 113, 118, 127,\n",
            "         125, 139, 133, 136, 160, 140, 155, 161, 144, 155, 172, 161, 189,  62,\n",
            "           0,  68,  94,  90, 111, 114, 111, 114, 115, 127, 135, 136, 143, 126,\n",
            "         127, 151, 154, 143, 148, 125, 162, 162, 144, 138, 153, 162, 196,  58,\n",
            "          70, 169, 129, 104,  98, 100,  94,  97,  98, 102, 108, 106, 119, 120,\n",
            "         129, 149, 156, 167, 190, 190, 196, 198, 198, 187, 197, 189, 184,  36,\n",
            "          16, 126, 171, 188, 188, 184, 171, 153, 135, 120, 126, 127, 146, 185,\n",
            "         195, 209, 208, 255, 209, 177, 245, 252, 251, 251, 247, 220, 206,  49,\n",
            "           0,   0,   0,  12,  67, 106, 164, 185, 199, 210, 211, 210, 208, 190,\n",
            "         150,  82,   8,   0,   0,   0, 178, 208, 188, 175, 162, 158, 151,  11,\n",
            "           0,   0,   0,   0,   0,   0,   0,   0,   0,   0,   0,   0,   0,   0,\n",
            "           0,   0,   0,   0,   0,   0,   0,   0,   0,   0,   0,   0,   0,   0,\n",
            "           0,   0,   0,   0,   0,   0,   0,   0,   0,   0,   0,   0,   0,   0,\n",
            "           0,   0,   0,   0,   0,   0,   0,   0,   0,   0,   0,   0,   0,   0,\n",
            "           0,   0,   0,   0,   0,   0,   0,   0,   0,   0,   0,   0,   0,   0,\n",
            "           0,   0,   0,   0,   0,   0,   0,   0,   0,   0,   0,   0,   0,   0,\n",
            "           0,   0,   0,   0,   0,   0,   0,   0,   0,   0,   0,   0,   0,   0,\n",
            "           0,   0,   0,   0,   0,   0,   0,   0,   0,   0,   0,   0,   0,   0,\n",
            "           0,   0,   0,   0,   0,   0,   0,   0,   0,   0,   0,   0,   0,   0,\n",
            "           0,   0,   0,   0,   0,   0,   0,   0,   0,   0,   0,   0,   0,   0,\n",
            "           0,   0,   0,   0,   0,   0,   0,   0,   0,   0,   0,   0,   0,   0,\n",
            "           0,   0,   0,   0,   0,   0,   0,   0,   0,   0,   0,   0,   0,   0]],\n",
            "       dtype=torch.uint8)\n"
          ]
        }
      ],
      "source": [
        "# 모델이 학습시 본적이 없는 데이터로 검증하기 위해 테스트 데이터셋을 가져옵니다.\n",
        "testset = datasets.FashionMNIST(\n",
        "    root      = './.data/', \n",
        "    train     = False,\n",
        "    download  = True,\n",
        "    transform = transforms.ToTensor()\n",
        ")\n",
        "\n",
        "# 테스트셋에서 이미지 한장을 가져옵니다.\n",
        "sample_data = testset.data[0].view(-1, 28*28)\n",
        "print(sample_data)\n",
        "sample_data = sample_data.type(torch.FloatTensor)/255.\n",
        "\n",
        "# 이미지를 add_noise로 오염시킨 후, 모델에 통과시킵니다.\n",
        "original_x = sample_data[0]\n",
        "noisy_x = add_noise(original_x).to(DEVICE)\n",
        "_, recovered_x = autoencoder(noisy_x)"
      ]
    },
    {
      "cell_type": "code",
      "execution_count": 30,
      "metadata": {
        "colab": {
          "base_uri": "https://localhost:8080/",
          "height": 310
        },
        "id": "KCUJM0QtQcMi",
        "outputId": "641291bb-258e-4913-ec24-fe85110abe76"
      },
      "outputs": [
        {
          "data": {
            "image/png": "[encoded data removed]",
            "text/plain": [
              "<Figure size 1080x1080 with 3 Axes>"
            ]
          },
          "metadata": {
            "needs_background": "light",
            "tags": []
          },
          "output_type": "display_data"
        }
      ],
      "source": [
        "f, a = plt.subplots(1, 3, figsize=(15, 15))\n",
        "\n",
        "# 시각화를 위해 넘파이 행렬로 바꿔줍니다.\n",
        "original_img = np.reshape(original_x.to(\"cpu\").data.numpy(), (28, 28))\n",
        "noisy_img = np.reshape(noisy_x.to(\"cpu\").data.numpy(), (28, 28))\n",
        "recovered_img = np.reshape(recovered_x.to(\"cpu\").data.numpy(), (28, 28))\n",
        "\n",
        "# 원본 사진\n",
        "a[0].set_title('Original')\n",
        "a[0].imshow(original_img, cmap='gray')\n",
        "\n",
        "# 오염된 원본 사진\n",
        "a[1].set_title('Noisy')\n",
        "a[1].imshow(noisy_img, cmap='gray')\n",
        "\n",
        "# 복원된 사진\n",
        "a[2].set_title('Recovered')\n",
        "a[2].imshow(recovered_img, cmap='gray')\n",
        "\n",
        "plt.show()"
      ]
    }
  ],
  "metadata": {
    "accelerator": "GPU",
    "colab": {
      "name": "denoising_autoencoder.ipynb",
      "provenance": []
    },
    "kernelspec": {
      "display_name": "Python 3.8.13 ('base')",
      "language": "python",
      "name": "python3"
    },
    "language_info": {
      "codemirror_mode": {
        "name": "ipython",
        "version": 3
      },
      "file_extension": ".py",
      "mimetype": "text/x-python",
      "name": "python",
      "nbconvert_exporter": "python",
      "pygments_lexer": "ipython3",
      "version": "3.8.13 | packaged by conda-forge | (default, Mar 25 2022, 06:04:10) \n[GCC 10.3.0]"
    },
    "vscode": {
      "interpreter": {
        "hash": "d4d1e4263499bec80672ea0156c357c1ee493ec2b1c70f0acce89fc37c4a6abe"
      }
    }
  },
  "nbformat": 4,
  "nbformat_minor": 0
}
